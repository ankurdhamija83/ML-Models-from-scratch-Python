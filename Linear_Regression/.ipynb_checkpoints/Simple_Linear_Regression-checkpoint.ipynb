{
 "cells": [
  {
   "cell_type": "code",
   "execution_count": 17,
   "metadata": {},
   "outputs": [],
   "source": [
    "#Import required libraries\n",
    "import numpy as np\n",
    "import matplotlib.pyplot as plt\n",
    "from scipy import stats"
   ]
  },
  {
   "cell_type": "code",
   "execution_count": 18,
   "metadata": {},
   "outputs": [],
   "source": [
    "#Create a class for Linear Regression\n",
    "class LinearRegression:\n",
    "    def __init__(self, x, y):\n",
    "        self.x = x\n",
    "        self.y = y\n",
    "        \n",
    "        #Number of iterations of the Gradient Descent Algorithm\n",
    "        self.max_iter = 100000\n",
    "        \n",
    "        self.eps=1e-15\n",
    "        \n",
    "        #Learning Rate\n",
    "        self.alpha = 0.00001\n",
    "        \n",
    "        \n",
    "    def stochasticGradientDescent(self):\n",
    "        \n",
    "        \n",
    "        #Initialize w and b with random value\n",
    "        w = 0.25\n",
    "        b = 0.3\n",
    "        \n",
    "        check = True\n",
    "        iter = 0\n",
    "        while check:\n",
    "            for j in range(len(self.x)):\n",
    "                prev_w = w\n",
    "                prev_b = b\n",
    "                \n",
    "                #Calculate y_pred\n",
    "                y_pred = w * self.x[j] + b\n",
    "                \n",
    "                #Update slope\n",
    "                w = w - self.alpha * (y_pred - self.y[j]) * self.x[j]\n",
    "                \n",
    "                #Update intercept\n",
    "                b = b - self.alpha * (y_pred - self.y[j]) * 1\n",
    "                \n",
    "                iter += 1\n",
    "                \n",
    "                if (np.abs(w-prev_w) < self.eps and np.abs(b-prev_b) < self.eps) or iter == self.max_iter:\n",
    "                    check = False\n",
    "        \n",
    "        print(\"Stochastic Gradient Descent algorithm took {} iters to converge\".format(iter))\n",
    "                \n",
    "        return w,b\n",
    "    \n",
    "    def batchGradientDescent(self):\n",
    "        \n",
    "        #Initialize w and b with a random value\n",
    "        w=0.25\n",
    "        b=0.3\n",
    "        \n",
    "        check = True\n",
    "        iter = 0\n",
    "        n = len(self.x)\n",
    "        \n",
    "        while check:\n",
    "            \n",
    "            cost_intercept = 0\n",
    "            cost_slope = 0\n",
    "            \n",
    "            prev_w = w\n",
    "            prev_b = b\n",
    "            \n",
    "            \n",
    "            for j in range(len(self.x)):\n",
    "                \n",
    "                #Calculate y_pred\n",
    "                y_pred = w * self.x[j] + b\n",
    "                \n",
    "                #Calculate loss for the entire batch\n",
    "                cost_intercept +=  (y_pred - self.y[j])*1 \n",
    "                \n",
    "                cost_slope +=  (y_pred - self.y[j])*self.x[j]\n",
    "            \n",
    "            #Update slope\n",
    "            w = w - self.alpha * cost_slope / n\n",
    "                \n",
    "            #Update intercept\n",
    "            b = b - self.alpha * cost_intercept / n\n",
    "            \n",
    "            iter += 1\n",
    "                \n",
    "            if (np.abs(w-prev_w) < self.eps and np.abs(b-prev_b) < self.eps) or iter == self.max_iter:\n",
    "                check = False \n",
    "                \n",
    "        print(\"Batch Gradient Descent algorithm took {} iters to converge\".format(iter))\n",
    "                \n",
    "        return w,b\n",
    "    \n",
    "    \n",
    "    def normalEquation(self):\n",
    "        \n",
    "        #Initialize w and b with random value\n",
    "        w = 0.25\n",
    "        b = 0.3\n",
    "        \n",
    "        #Create arrays for vectorized calculations using Numpy\n",
    "        x_arr = np.array(self.x)\n",
    "        y_arr = np.array(self.y)\n",
    "        \n",
    "        \n",
    "        num = np.mean(x_arr*y_arr) - np.mean(x_arr)*np.mean(y_arr)\n",
    "        den = np.mean(np.square(x_arr)) - np.square(np.mean(x_arr))\n",
    "        w = num/den\n",
    "        \n",
    "        b = np.mean(y_arr) - w*np.mean(x_arr)\n",
    "        \n",
    "        return w,b\n",
    "    \n",
    "    \n",
    "    def newtonMethod(self):\n",
    "        #Create arrays for vectorized calculations using Numpy\n",
    "        x_arr = np.array(self.x)\n",
    "        y_arr = np.array(self.y)\n",
    "        \n",
    "        \n",
    "        #Reshape x_arr and y_arr for matrix operations\n",
    "        x_arr = x_arr.reshape(x_arr.shape[0], 1)\n",
    "        y_arr = y_arr.reshape(y_arr.shape[0], 1)\n",
    "        \n",
    "        #Modify x_arr to 2-D, x[0] = 1\n",
    "        x_arr = np.insert(x_arr, 0, 1, axis=1)\n",
    "        \n",
    "        #Initialize w_arr\n",
    "        w_arr = np.ones((2, 1))\n",
    "        \n",
    "        #Source for Gradient and Hessian Equations\n",
    "        #https://www.cs.ubc.ca/~schmidtm/Courses/Notes/linearQuadraticGradients.pdf\n",
    "        \n",
    "        \n",
    "        check = True\n",
    "        iter = 0\n",
    "        while check and iter < self.max_iter:\n",
    "            \n",
    "            old_w_arr = w_arr\n",
    "            \n",
    "            #Calculate the gradient\n",
    "            gradientLoss = np.matmul(np.dot(x_arr.T,x_arr),w_arr) - np.matmul(x_arr.T,y_arr)\n",
    "        \n",
    "            #Calculate the hessian\n",
    "            hessianLoss = np.dot(x_arr.T,x_arr)\n",
    "\n",
    "            #Calculate the hessian inverse\n",
    "            hessianLossInv = np.linalg.inv(hessianLoss)\n",
    "            \n",
    "            #Use Newton's method to update w_arr\n",
    "            w_arr = old_w_arr - np.matmul(hessianLossInv,gradientLoss)\n",
    "            \n",
    "            \n",
    "            #Difference between new and old theta\n",
    "            diff = np.linalg.norm(w_arr - old_w_arr)\n",
    "            \n",
    "            #Check if the difference is less than the eps specified\n",
    "            if abs(diff) < self.eps:\n",
    "                print(\"Linear Regression Algorithm converged\")\n",
    "                check = False\n",
    "            \n",
    "            print(\"This is iter: \", iter)\n",
    "            print(\"This is w after Newton Method: \", w_arr)\n",
    "            print(\"*\"*10)\n",
    "            iter += 1\n",
    "        \n",
    "        # return slope, intercept\n",
    "        return w_arr[1,0], w_arr[0,0]\n",
    "                \n",
    "        \n",
    "\n",
    "    \n",
    "    def fit(self):\n",
    "        #Fit the model\n",
    "        return np.multiply(self.slope,self.x) + self.intercept\n",
    "    \n",
    "    \n",
    "    def drawPlot(self):\n",
    "        #Plot the dataset and model\n",
    "        plt.scatter(self.x, self.y)\n",
    "        plt.title(\"Simple Linear Regression\")\n",
    "        plt.xlabel(\"Salary in USD'000\")\n",
    "        plt.ylabel(\"Money spent on car purchase in USD'000\")\n",
    "        plt.plot(self.x, self.myModel)\n",
    "        plt.show()   "
   ]
  },
  {
   "cell_type": "code",
   "execution_count": 19,
   "metadata": {},
   "outputs": [],
   "source": [
    "#Dataset\n",
    "\n",
    "#x - Annual Salary in USD'000\n",
    "x = [20,22,25,28,34,40,45,51,58,62,65,70,74,78,82,85,89,92,95,99,102,104,110,112,117,123,126,130,134,140,144,148,150]\n",
    "\n",
    "#y - Price of the car bought in USD'000\n",
    "y = [35,41,35,24,32,36,50,59,63,50,36,84,80,88,94,64,80,98,68,88,80,72,95,96,104,120,105,118,110,130,125,118,135]"
   ]
  },
  {
   "cell_type": "code",
   "execution_count": 20,
   "metadata": {},
   "outputs": [],
   "source": [
    "#Create an object of the class\n",
    "myLinearReg = LinearRegression(x,y)"
   ]
  },
  {
   "cell_type": "markdown",
   "metadata": {},
   "source": [
    "------------"
   ]
  },
  {
   "cell_type": "markdown",
   "metadata": {},
   "source": [
    "## Linear Regression\n",
    "\n",
    "### There are multiple approaches to find the parameters that minimize the Loss function in Linear Regression\n",
    "#### 1. Gradient Descent\n",
    "#### 2. Calculation of parameters using the Normal Equation\n",
    "#### 3. Newton Raphson method\n",
    "#### 4. Calculation of weights using Scipy"
   ]
  },
  {
   "cell_type": "markdown",
   "metadata": {},
   "source": [
    "-----------------------"
   ]
  },
  {
   "cell_type": "markdown",
   "metadata": {},
   "source": [
    "## 1. Gradient Descent"
   ]
  },
  {
   "cell_type": "markdown",
   "metadata": {},
   "source": [
    "## Mathematics behind Gradient Descent\n",
    "\n",
    "First we define the Hypothesis function - $h_{\\theta}x = \\theta_0 + \\theta_1*x_1 $\n",
    "\n",
    "Then, we define our cost function - $J(\\theta) = (1/2n)\\sum_{i=1}^{n} (h_{\\theta}x^{(i)}-y^{(i)})^2 $\n",
    "\n",
    "Next, we define the Gradient Descent update rule - $ \\theta_j := \\theta_j - \\alpha \\frac{\\partial}{\\partial \\theta_j} J(\\theta)$\n",
    "\n",
    "Here, $\\alpha$ is the learning rate.\n",
    "\n",
    "Calculating the Partial Derivative of $J(\\theta)$\n",
    "\n",
    "$\\frac{\\partial}{\\partial \\theta_j}J(\\theta) = \\frac{\\partial}{\\partial \\theta_j} \\frac{1}{2}(h_{\\theta}x-y)^2$\n",
    "\n",
    "$= 2*\\frac{1}{2}*(h_{\\theta}x-y)*\\frac{\\partial}{\\partial \\theta_j}(h_{\\theta}x-y)$\n",
    "\n",
    "$= 2*\\frac{1}{2}*(h_{\\theta}x-y)*\\frac{\\partial}{\\partial \\theta_j}\\sum_{i=0}^{d} (\\theta_{i} x_{i}-y)$\n",
    "\n",
    "$= (h_{\\theta}x-y)*x_j$\n",
    "\n",
    "For a single training example, the Gradient Descent update rule is\n",
    "$ \\theta_j := \\theta_j - \\alpha (h_{\\theta}x-y)*x_j$\n",
    "\n",
    "The rule is called the LMS update rule (LMS stands for “least mean squares”), and is also known as the Widrow-Hoff learning rule. "
   ]
  },
  {
   "cell_type": "code",
   "execution_count": 21,
   "metadata": {},
   "outputs": [
    {
     "name": "stdout",
     "output_type": "stream",
     "text": [
      "Stochastic Gradient Descent algorithm took 100023 iters to converge\n",
      "This is slope:  0.8550062863417444\n",
      "This is intercept:  2.1309955742529683\n"
     ]
    }
   ],
   "source": [
    "#Execute the Stochastic Gradient Descent()\n",
    "myLinearReg.slope, myLinearReg.intercept = myLinearReg.stochasticGradientDescent()\n",
    "print(\"This is slope: \", myLinearReg.slope)\n",
    "print(\"This is intercept: \", myLinearReg.intercept)"
   ]
  },
  {
   "cell_type": "code",
   "execution_count": 22,
   "metadata": {},
   "outputs": [
    {
     "data": {
      "image/png": "[encoded data removed]",
      "text/plain": [
       "<Figure size 432x288 with 1 Axes>"
      ]
     },
     "metadata": {
      "needs_background": "light"
     },
     "output_type": "display_data"
    }
   ],
   "source": [
    "myLinearReg.myModel = myLinearReg.fit()\n",
    "myLinearReg.drawPlot()"
   ]
  },
  {
   "cell_type": "code",
   "execution_count": 23,
   "metadata": {},
   "outputs": [
    {
     "name": "stdout",
     "output_type": "stream",
     "text": [
      "Batch Gradient Descent algorithm took 100000 iters to converge\n",
      "This is slope:  0.8675299224271109\n",
      "This is intercept:  2.3120412752244004\n"
     ]
    }
   ],
   "source": [
    "#Execute the Batch Gradient Descent()\n",
    "myLinearReg.slope, myLinearReg.intercept = myLinearReg.batchGradientDescent()\n",
    "print(\"This is slope: \", myLinearReg.slope)\n",
    "print(\"This is intercept: \", myLinearReg.intercept)"
   ]
  },
  {
   "cell_type": "markdown",
   "metadata": {},
   "source": [
    "## 2. Calculation of parameters using the Normal Equation"
   ]
  },
  {
   "cell_type": "markdown",
   "metadata": {},
   "source": [
    "### Deriving the parameters of the Normal Equation\n",
    "\n",
    "We first define our general cost function: $J(\\theta) = (1/2n)\\sum_{i=1}^{n} (h_{\\theta}x^{(i)}-y^{(i)})^2 $\n",
    "\n",
    "Taking the cost function for Simple Linear Regression\n",
    "\n",
    "$J = (1/2n)((b+wx)-y)^2 $\n",
    "\n",
    "$J = (1/2n)((b+wx)^2+y^2-2(b+wx)y) $\n",
    "\n",
    "$J = (1/2n)(b^2+w^2x^2 + 2bwx+y^2-2by-2wxy) $\n",
    "\n",
    "*********\n",
    "\n",
    "#### Taking the partial derivative wrt b\n",
    "\n",
    "$\\frac{\\partial J}{\\partial b} = (1/2n) * (2b + 2wx - 2y)$\n",
    "\n",
    "Taking the parameters out that are independent of n\n",
    "\n",
    "$\\frac{\\partial J}{\\partial b} = (1/2) * (2b) + (1/2n) * (2wx - 2y) $\n",
    "\n",
    "To find the value of b that minimizes the loss function, we equate $\\frac{\\partial J}{\\partial b} = 0$\n",
    "\n",
    "$(1/2) * (2b) + (1/2n) * (2wx - 2y) = 0 $\n",
    "\n",
    "$ b = (y - wx)/n $\n",
    "\n",
    "$ b = (\\bar{y} - w\\bar{x}) $\n",
    "\n",
    "*********\n",
    "\n",
    "#### Taking the partial derivative wrt w\n",
    "\n",
    "$\\frac{\\partial J}{\\partial b} = (1/2n) * (2wx^2 + 2bx - 2xy)$\n",
    "\n",
    "$\\frac{\\partial J}{\\partial b} = (1/2n) * (2wx^2 + 2x(b - y))$\n",
    "\n",
    "Substituting the value of b from earlier derivation and solving the equation algebraically, we get\n",
    "\n",
    "$ w = \\frac{1/N(\\sum_{n=1}^{N} x_n t_n) - \\bar t \\bar x}{1/N(\\sum_{n=1}^{N} x^2) - \\bar x \\bar x} $\n"
   ]
  },
  {
   "cell_type": "code",
   "execution_count": 301,
   "metadata": {},
   "outputs": [
    {
     "name": "stdout",
     "output_type": "stream",
     "text": [
      "This is slope:  0.7625146053675104\n",
      "This is intercept:  13.235858069125015\n"
     ]
    }
   ],
   "source": [
    "myLinearReg.slope, myLinearReg.intercept = myLinearReg.normalEquation()\n",
    "print(\"This is slope: \", myLinearReg.slope)\n",
    "print(\"This is intercept: \", myLinearReg.intercept)"
   ]
  },
  {
   "cell_type": "code",
   "execution_count": 302,
   "metadata": {},
   "outputs": [
    {
     "data": {
      "image/png": "[encoded data removed]",
      "text/plain": [
       "<Figure size 432x288 with 1 Axes>"
      ]
     },
     "metadata": {
      "needs_background": "light"
     },
     "output_type": "display_data"
    }
   ],
   "source": [
    "myLinearReg.myModel = myLinearReg.fit()\n",
    "myLinearReg.drawPlot()"
   ]
  },
  {
   "cell_type": "markdown",
   "metadata": {},
   "source": [
    "## 3. Calculation of parameters using the Newton Raphson method"
   ]
  },
  {
   "cell_type": "markdown",
   "metadata": {},
   "source": [
    "### Deriving the Newton Raphson Method\n",
    "\n",
    "Find the tangent line to $f(x)$ at point $(x_n,y_n)$\n",
    "\n",
    "$y=f′(x_n)(x−x_n)+f(x_n)$\n",
    "\n",
    "Find the x-intercept of the tangent line, $x_n+1$\n",
    "\n",
    "$0=f′(x_n)(x_n+1−x_n)+f(x_n)$\n",
    "\n",
    "$−f(x_n)=f′(x_n)(x_{n+1}−x_n)$\n",
    "\n",
    "$x_{n+1}=x_n−f(x_n)f′(x_n)$\n",
    "\n",
    "Find the y value at the x-intercept.\n",
    "\n",
    "$y_{n+1}=f(x_{n+1})$\n",
    "\n",
    "If $y_{n+1}−y_n≈0$:\n",
    "\n",
    "return $y_{n+1}$ because we’ve converged!\n",
    "\n",
    "Else update point $(x_n,y_n)$, and iterate\n",
    "\n",
    "$x=x_{n+1},y=y_{n+1},$ goto (1).\n",
    "\n",
    "\n",
    "********\n",
    "\n",
    "In our case, since we are minimizing the derivative of the Loss function, Newton Method equation can be re-written as\n",
    "$\\theta_{n+1} = \\theta + H^{-1}_{l(\\theta)} \\nabla{l(\\theta)}$"
   ]
  },
  {
   "cell_type": "code",
   "execution_count": 303,
   "metadata": {},
   "outputs": [
    {
     "name": "stdout",
     "output_type": "stream",
     "text": [
      "This is iter:  0\n",
      "This is w after Newton Method:  [[13.23585807]\n",
      " [ 0.76251461]]\n",
      "**********\n",
      "Linear Regression Algorithm converged\n",
      "This is iter:  1\n",
      "This is w after Newton Method:  [[13.23585807]\n",
      " [ 0.76251461]]\n",
      "**********\n",
      "This is slope:  0.7625146053675103\n",
      "This is intercept:  13.235858069125015\n"
     ]
    }
   ],
   "source": [
    "myLinearReg.slope, myLinearReg.intercept = myLinearReg.newtonMethod()\n",
    "print(\"This is slope: \", myLinearReg.slope)\n",
    "print(\"This is intercept: \", myLinearReg.intercept)\n"
   ]
  },
  {
   "cell_type": "code",
   "execution_count": 304,
   "metadata": {},
   "outputs": [
    {
     "data": {
      "image/png": "[encoded data removed]",
      "text/plain": [
       "<Figure size 432x288 with 1 Axes>"
      ]
     },
     "metadata": {
      "needs_background": "light"
     },
     "output_type": "display_data"
    }
   ],
   "source": [
    "myLinearReg.drawPlot()"
   ]
  },
  {
   "cell_type": "markdown",
   "metadata": {},
   "source": [
    "## 4. Calculation of weights using Scipy"
   ]
  },
  {
   "cell_type": "code",
   "execution_count": 305,
   "metadata": {},
   "outputs": [],
   "source": [
    "# #Plot the dataset\n",
    "# plt.scatter(myLinearReg.x, myLinearReg.y)\n",
    "# plt.title(\"Simple Linear Regression\")\n",
    "# plt.xlabel(\"Annual Salary in USD'000\")\n",
    "# plt.ylabel(\"Price of car purchased in USD'000\")\n",
    "# plt.show()"
   ]
  },
  {
   "cell_type": "code",
   "execution_count": 306,
   "metadata": {},
   "outputs": [
    {
     "name": "stdout",
     "output_type": "stream",
     "text": [
      "This is slope:  0.7625146053675103\n",
      "This is intercept:  13.23585806912503\n"
     ]
    }
   ],
   "source": [
    "slope, intercept, r, p, std_err = stats.linregress(myLinearReg.x, myLinearReg.y)\n",
    "print(\"This is slope: \", slope)\n",
    "print(\"This is intercept: \", intercept)\n",
    "\n"
   ]
  },
  {
   "cell_type": "code",
   "execution_count": 307,
   "metadata": {},
   "outputs": [
    {
     "data": {
      "image/png": "[encoded data removed]",
      "text/plain": [
       "<Figure size 432x288 with 1 Axes>"
      ]
     },
     "metadata": {
      "needs_background": "light"
     },
     "output_type": "display_data"
    }
   ],
   "source": [
    "def myfunc(x):\n",
    "  return slope * x + intercept\n",
    "\n",
    "mymodel = list(map(myfunc, x))\n",
    "\n",
    "plt.scatter(x, y)\n",
    "plt.title(\"Simple Linear Regression\")\n",
    "plt.xlabel(\"Salary in USD'000\")\n",
    "plt.ylabel(\"Money spent on car purchase in USD'000\")\n",
    "plt.plot(x, mymodel)\n",
    "plt.show()"
   ]
  }
 ],
 "metadata": {
  "kernelspec": {
   "display_name": "Python 3",
   "language": "python",
   "name": "python3"
  },
  "language_info": {
   "codemirror_mode": {
    "name": "ipython",
    "version": 3
   },
   "file_extension": ".py",
   "mimetype": "text/x-python",
   "name": "python",
   "nbconvert_exporter": "python",
   "pygments_lexer": "ipython3",
   "version": "3.8.5"
  }
 },
 "nbformat": 4,
 "nbformat_minor": 4
}
