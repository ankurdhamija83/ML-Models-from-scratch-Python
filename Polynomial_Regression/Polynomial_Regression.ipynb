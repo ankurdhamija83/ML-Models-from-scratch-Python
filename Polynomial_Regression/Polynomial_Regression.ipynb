{
 "cells": [
  {
   "cell_type": "code",
   "execution_count": 1,
   "metadata": {},
   "outputs": [
    {
     "data": {
      "text/plain": [
       "<Figure size 432x288 with 0 Axes>"
      ]
     },
     "metadata": {},
     "output_type": "display_data"
    },
    {
     "data": {
      "text/plain": [
       "<Figure size 432x288 with 0 Axes>"
      ]
     },
     "metadata": {},
     "output_type": "display_data"
    },
    {
     "data": {
      "text/plain": [
       "<Figure size 432x288 with 0 Axes>"
      ]
     },
     "metadata": {},
     "output_type": "display_data"
    },
    {
     "data": {
      "text/plain": [
       "<Figure size 432x288 with 0 Axes>"
      ]
     },
     "metadata": {},
     "output_type": "display_data"
    },
    {
     "data": {
      "text/plain": [
       "<Figure size 432x288 with 0 Axes>"
      ]
     },
     "metadata": {},
     "output_type": "display_data"
    }
   ],
   "source": [
    "import util\n",
    "import numpy as np\n",
    "import matplotlib.pyplot as plt\n",
    "\n",
    "np.seterr(all='raise')\n",
    "\n",
    "\n",
    "factor = 2.0\n",
    "\n",
    "class LinearModel(object):\n",
    "  \"\"\"Base class for linear models.\n",
    "\n",
    "  Attributes:\n",
    "    theta: np.ndarray, dtype=np.float64, shape=(n_features,). Weights vector for\n",
    "      the model.\n",
    "  \"\"\"\n",
    "\n",
    "  def __init__(self, theta=None):\n",
    "    \"\"\"\n",
    "    Args:\n",
    "      theta: (See class definition)\n",
    "    \"\"\"\n",
    "    self.theta = theta\n",
    "\n",
    "  def fit(self, x, y):\n",
    "    \"\"\"Fits the linear model to x -> y using np.linalg.solve.\n",
    "\n",
    "    Remember to update self.theta with the fitted model parameters.\n",
    "\n",
    "    Args:\n",
    "      x: np.ndarray, dtype=np.float64, shape=(n_examples, n_features). Inputs.\n",
    "      y: np.ndarray, dtype=np.float64, shape=(n_examples,). Outputs.\n",
    "\n",
    "    Returns: Nothing\n",
    "    \"\"\"\n",
    "    pass\n",
    "    # *** START CODE HERE ***\n",
    "    x_transpose = np.transpose(x)\n",
    "    x_covariance = np.dot(x_transpose, x)\n",
    "    x_covariance_inv = np.linalg.inv(x_covariance)\n",
    "    y_covariance = np.dot(np.transpose(x), y)\n",
    "        \n",
    "    self.theta = np.linalg.solve(x_covariance,y_covariance)\n",
    "    # *** END CODE HERE ***\n",
    "\n",
    "  def predict(self, x):\n",
    "    \"\"\" Makes a prediction given a new set of input features.\n",
    "\n",
    "    Args:\n",
    "      x: np.ndarray, dtype=np.float64, shape=(n_examples, n_features). Model input.\n",
    "\n",
    "    Returns: np.ndarray, dtype=np.float64, shape=(n_examples,). Model output.\n",
    "    \"\"\"\n",
    "    pass\n",
    "    # *** START CODE HERE ***\n",
    "    return np.dot(x,self.theta)\n",
    "    # *** END CODE HERE ***\n",
    "\n",
    "  @staticmethod\n",
    "  def create_poly(k, x):\n",
    "    \"\"\" Generates polynomial features of the input data x.\n",
    "\n",
    "    Args:\n",
    "      x: np.ndarray, dtype=np.float64, shape=(n_examples,). Training inputs.\n",
    "\n",
    "    Returns: np.ndarray, dtype=np.float64, shape=(n_examples, k+1). Polynomial\n",
    "      features of x with powers 0 to k (inclusive).\n",
    "    \"\"\"\n",
    "    pass\n",
    "    # *** START CODE HERE ***\n",
    "    #Initialize an empty array to store the transformed x_train\n",
    "    x_transform = np.empty(shape=x.shape)\n",
    "\n",
    "    for i in range(k+1):\n",
    "        poly_x_i = np.power(x[:,0],i).reshape(x.shape[0], 1)\n",
    "        x_transform = np.append(x_transform, poly_x_i, axis=1)\n",
    "\n",
    "    x_transform = x_transform[:,1:]\n",
    "\n",
    "    return x_transform\n",
    "    # *** END CODE HERE ***\n",
    "\n",
    "  @staticmethod\n",
    "  def create_sin(k, x):\n",
    "    \"\"\" Generates sine and polynomial features of the input data x.\n",
    "\n",
    "    Args:\n",
    "      x: np.ndarray, dtype=np.float64, shape=(n_examples,). Training inputs.\n",
    "\n",
    "    Returns: np.ndarray, dtype=np.float64, shape=(n_examples, k+2). Sine (column\n",
    "      0) and polynomial (columns 1 to k+1) features of x with powers 0 to k\n",
    "      (inclusive).\n",
    "    \"\"\"\n",
    "    pass\n",
    "    # *** START CODE HERE ***\n",
    "    #Initialize an empty array to store x_transform\n",
    "    x_transform = np.empty(shape=x.shape)\n",
    "        \n",
    "    #Loop over k+1 to create polynomial features\n",
    "    for i in range(k+1):\n",
    "        sin_x_i = np.power(x[:,0],i).reshape(x.shape[0], 1)\n",
    "        x_transform = np.append(x_transform, sin_x_i, axis=1)\n",
    "            \n",
    "    x_transform = x_transform[:,1:]\n",
    "    x_transform = np.insert(x_transform, 0, np.sin(x).flatten(), axis=1)\n",
    "                \n",
    "    return x_transform\n",
    "    # *** END CODE HERE ***\n",
    "\n",
    "def run_exp(train_path, sine=False, ks=[1, 2, 3, 5, 10, 20], filename='plot.png'):\n",
    "  train_x,train_y=util.load_dataset(train_path,add_intercept=False)\n",
    "  train_y = train_y.reshape(train_y.shape[0], 1)\n",
    "  plot_x = np.ones([1000, 1])\n",
    "  plot_x[:, 0] = np.linspace(-factor*np.pi, factor*np.pi, 1000)\n",
    "  plt.figure()\n",
    "  plt.scatter(train_x, train_y)\n",
    "\n",
    "  for k in ks:\n",
    "      '''\n",
    "      Our objective is to train models and perform predictions on plot_x data\n",
    "      '''\n",
    "      # *** START CODE HERE ***\n",
    "      lm = LinearModel()\n",
    "      if sine:\n",
    "        train_x_transformed = lm.create_sin(k, train_x)\n",
    "        lm.fit(train_x_transformed, train_y)\n",
    "        plot_x_graph = lm.create_sin(k, plot_x)\n",
    "        plot_y = lm.predict(plot_x_graph)\n",
    "      else:\n",
    "        train_x_transformed = lm.create_poly(k, train_x)\n",
    "        lm.fit(train_x_transformed, train_y)\n",
    "        plot_x_graph = lm.create_poly(k, plot_x)\n",
    "        plot_y = lm.predict(plot_x_graph)\n",
    "      # *** END CODE HERE ***\n",
    "      '''\n",
    "      Here plot_y are the predictions of the linear model on the plot_x data\n",
    "      '''\n",
    "      plt.ylim(-2, 2)\n",
    "      plt.plot(plot_x[:, 0], plot_y, label='k=%d' % k)\n",
    "\n",
    "  plt.legend()\n",
    "  plt.savefig(filename)\n",
    "  plt.clf()\n",
    "\n",
    "\n",
    "def main(train_path, small_path, eval_path):\n",
    "  '''\n",
    "  Run all experiments\n",
    "  '''\n",
    "  run_exp(train_path, False, [3], 'large-poly3.png')\n",
    "  run_exp(train_path, True, [1, 2, 3, 5, 10, 20], 'large-sine.png')\n",
    "  run_exp(train_path, False, [1, 2, 3, 5, 10, 20], 'large-poly.png')\n",
    "  run_exp(small_path, True, [1, 2, 3, 5, 10, 20], 'small-sine.png')\n",
    "  run_exp(small_path, False, [1, 2, 3, 5, 10, 20], 'small-poly.png')\n",
    "\n",
    "if __name__ == '__main__':\n",
    "  main(train_path='train.csv',\n",
    "      small_path='small.csv',\n",
    "      eval_path='test.csv')\n"
   ]
  },
  {
   "cell_type": "code",
   "execution_count": null,
   "metadata": {},
   "outputs": [],
   "source": []
  }
 ],
 "metadata": {
  "kernelspec": {
   "display_name": "Python 3",
   "language": "python",
   "name": "python3"
  },
  "language_info": {
   "codemirror_mode": {
    "name": "ipython",
    "version": 3
   },
   "file_extension": ".py",
   "mimetype": "text/x-python",
   "name": "python",
   "nbconvert_exporter": "python",
   "pygments_lexer": "ipython3",
   "version": "3.8.5"
  }
 },
 "nbformat": 4,
 "nbformat_minor": 4
}
