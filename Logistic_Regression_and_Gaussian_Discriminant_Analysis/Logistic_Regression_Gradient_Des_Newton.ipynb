{
 "cells": [
  {
   "cell_type": "code",
   "execution_count": 113,
   "metadata": {},
   "outputs": [],
   "source": [
    "#Import the required libraries\n",
    "import numpy as np\n",
    "import util"
   ]
  },
  {
   "cell_type": "code",
   "execution_count": 114,
   "metadata": {},
   "outputs": [],
   "source": [
    "#Create a class for Logistic regression\n",
    "class LogisticRegression:\n",
    "    \n",
    "    def __init__(self,x,y):\n",
    "        self.x = x\n",
    "        self.y = y\n",
    "        \n",
    "        self.step_size=0.01\n",
    "        self.alpha=0.0001\n",
    "        self.max_iter=1000000 \n",
    "        self.eps=1e-5\n",
    "        self.theta_0=None\n",
    "        \n",
    "        \n",
    "    #Hypothesis Function\n",
    "    def hypothesisFunc(self, x, theta):\n",
    "        \n",
    "        #Calculate z\n",
    "        z = np.dot(x, theta)\n",
    "\n",
    "        #Calculate sigmoid\n",
    "        sigmoid = 1.0 / (1.0 + np.exp(-z)) \n",
    "        \n",
    "        return sigmoid\n",
    "        \n",
    "    #Gradient Descent\n",
    "    def gradientDescent(self):\n",
    "        \n",
    "        #Initialize theta as all 0's\n",
    "        self.theta = np.zeros(self.x.shape[1])\n",
    "        \n",
    "        #Initialize check and iter_count\n",
    "        check = True\n",
    "        iter_count = 0\n",
    "\n",
    "        #Loop till the algorithm converges or iter < max_iter\n",
    "        while check and iter_count < self.max_iter:\n",
    "            \n",
    "            #Update iter_count\n",
    "            iter_count += 1\n",
    "            \n",
    "            #Update old_theta\n",
    "            old_theta = self.theta\n",
    "            \n",
    "\n",
    "            #Perform the gradient descent update on theta using Vectorized code\n",
    "            #1. Vectorized code\n",
    "            #Comment / Uncomment either of vectorized / non-vectorized code to see the time difference in execution of both the codes\n",
    "            self.theta = self.theta + self.alpha * np.matmul(self.x.T,(self.y - self.hypothesisFunc(self.x, self.theta)))            \n",
    "            \n",
    "            #Perform the gradient descent update on theta using Non-Vectorized code\n",
    "            #2. Non-Vectorized code (Commented out)\n",
    "#             for i in range(self.x.shape[0]):\n",
    "#                 self.theta = self.theta + self.alpha * self.x[i,:].T*(self.y[i,] - self.hypothesisFunc(self.x[i,:],self.theta))\n",
    "                        \n",
    "            #Difference between new and old theta\n",
    "            diff = np.linalg.norm(self.theta - old_theta)\n",
    "                        \n",
    "            #Check if the difference is less than the eps specified\n",
    "            if abs(diff) < self.eps:\n",
    "                check = False\n",
    "                print(\"Algorithm has converged after {}  iterations\".format(iter_count))\n",
    "     \n",
    "    #Newton Method\n",
    "    def newtonMethod(self):\n",
    "        \n",
    "        #Initialize theta as all 0's\n",
    "        self.theta = np.zeros(self.x.shape[1])\n",
    "        \n",
    "        #Initialize check and iter_count\n",
    "        check = True\n",
    "        iter_count = 0\n",
    "        \n",
    "        #Loop till the algorithm converges or iter < max_iter\n",
    "        while check and iter_count < self.max_iter:\n",
    "            \n",
    "            #Update iter_count\n",
    "            iter_count += 1\n",
    "            \n",
    "            #Update old_theta\n",
    "            old_theta = self.theta\n",
    "            \n",
    "            #Calculate the first derivative of the log likelihood function wrt theta\n",
    "            Der1 = np.matmul(self.x.T,(self.y - self.hypothesisFunc(self.x, self.theta))) \n",
    "            \n",
    "            #Calculate the second derivative\n",
    "            sigmoid = self.hypothesisFunc(self.x, self.theta)\n",
    "            k = np.array([a*b for (a,b) in zip(self.x, sigmoid*(1-sigmoid))])\n",
    "            Der2 =  -1*np.dot(k.T,self.x)\n",
    "            \n",
    "            #Calculate the new theta using Newton's Method\n",
    "            self.theta = old_theta - np.dot(Der1, np.linalg.inv(Der2))\n",
    "            \n",
    "            #Difference between new and old theta\n",
    "            diff = np.linalg.norm(self.theta - old_theta)\n",
    "            \n",
    "            #Check if the difference is less than the eps specified\n",
    "            if abs(diff) < self.eps:\n",
    "                check = False\n",
    "                print(\"Algorithm has converged after {}  iterations\".format(iter_count))\n",
    "        \n",
    "\n",
    "    #Predict function\n",
    "    def predict(self, x):\n",
    "        \n",
    "        z = np.dot(x, self.theta)\n",
    "        return 1.0 / (1.0 + np.exp(-z)) \n",
    "            "
   ]
  },
  {
   "cell_type": "code",
   "execution_count": 115,
   "metadata": {},
   "outputs": [],
   "source": [
    "#Load the dataset\n",
    "#Specify path of the training dataset in util.load_dataset\n",
    "x_train, y_train = util.load_dataset('ds1_train.csv', add_intercept=True)"
   ]
  },
  {
   "cell_type": "code",
   "execution_count": 116,
   "metadata": {},
   "outputs": [],
   "source": [
    "#Create an object of the class\n",
    "myLogisticReg = LogisticRegression(x_train,y_train)"
   ]
  },
  {
   "cell_type": "markdown",
   "metadata": {},
   "source": [
    "### Use Gradient Descent for finding theta"
   ]
  },
  {
   "cell_type": "code",
   "execution_count": 117,
   "metadata": {},
   "outputs": [
    {
     "name": "stdout",
     "output_type": "stream",
     "text": [
      "Algorithm has converged after 2402  iterations\n"
     ]
    }
   ],
   "source": [
    "#Perform Gradient Descent\n",
    "myLogisticReg.gradientDescent()"
   ]
  },
  {
   "cell_type": "code",
   "execution_count": 118,
   "metadata": {},
   "outputs": [
    {
     "name": "stdout",
     "output_type": "stream",
     "text": [
      "Logistic Regression Algorithm got Accuracy of: 0.83\n"
     ]
    },
    {
     "data": {
      "image/png": "[encoded data removed]",
      "text/plain": [
       "<Figure size 432x288 with 1 Axes>"
      ]
     },
     "metadata": {
      "needs_background": "light"
     },
     "output_type": "display_data"
    }
   ],
   "source": [
    "# Plot decision boundary on top of validation set set\n",
    "x_eval, y_eval = util.load_dataset('ds1_valid.csv', add_intercept=True)\n",
    "\n",
    "save_path='logreg_pred_1.txt'\n",
    "plot_path = save_path.replace('.txt', '.png')\n",
    "util.plot(x_eval, y_eval, myLogisticReg.theta, plot_path)\n",
    "\n",
    "# Use np.savetxt to save predictions on eval set to save_path\n",
    "p_eval = myLogisticReg.predict(x_eval)\n",
    "yhat = p_eval > 0.5\n",
    "print('Logistic Regression Algorithm got Accuracy of: %.2f' % np.mean( (yhat == 1) == (y_eval == 1)))\n",
    "np.savetxt(save_path, p_eval)"
   ]
  },
  {
   "cell_type": "code",
   "execution_count": 119,
   "metadata": {},
   "outputs": [
    {
     "name": "stdout",
     "output_type": "stream",
     "text": [
      "This is theta:  [-2.40502032  1.03229712  0.24470841]\n"
     ]
    }
   ],
   "source": [
    "print(\"This is theta: \", myLogisticReg.theta)"
   ]
  },
  {
   "cell_type": "markdown",
   "metadata": {},
   "source": [
    "### Use Newton Method for finding theta"
   ]
  },
  {
   "cell_type": "code",
   "execution_count": 120,
   "metadata": {},
   "outputs": [
    {
     "name": "stdout",
     "output_type": "stream",
     "text": [
      "Algorithm has converged after 7  iterations\n"
     ]
    }
   ],
   "source": [
    "#Perform Newton Method\n",
    "myLogisticReg.newtonMethod()"
   ]
  },
  {
   "cell_type": "code",
   "execution_count": 121,
   "metadata": {},
   "outputs": [
    {
     "name": "stdout",
     "output_type": "stream",
     "text": [
      "Logistic Regression Algorithm got Accuracy of: 0.83\n"
     ]
    },
    {
     "data": {
      "image/png": "[encoded data removed]",
      "text/plain": [
       "<Figure size 432x288 with 1 Axes>"
      ]
     },
     "metadata": {
      "needs_background": "light"
     },
     "output_type": "display_data"
    }
   ],
   "source": [
    "# Plot decision boundary on top of validation set set\n",
    "x_eval, y_eval = util.load_dataset('ds1_valid.csv', add_intercept=True)\n",
    "\n",
    "save_path='logreg_pred_1.txt'\n",
    "plot_path = save_path.replace('.txt', '.png')\n",
    "util.plot(x_eval, y_eval, myLogisticReg.theta, plot_path)\n",
    "\n",
    "# Use np.savetxt to save predictions on eval set to save_path\n",
    "p_eval = myLogisticReg.predict(x_eval)\n",
    "yhat = p_eval > 0.5\n",
    "print('Logistic Regression Algorithm got Accuracy of: %.2f' % np.mean( (yhat == 1) == (y_eval == 1)))\n",
    "np.savetxt(save_path, p_eval)"
   ]
  },
  {
   "cell_type": "code",
   "execution_count": 122,
   "metadata": {},
   "outputs": [
    {
     "name": "stdout",
     "output_type": "stream",
     "text": [
      "This is theta:  [-2.40859977  1.03437317  0.24480705]\n"
     ]
    }
   ],
   "source": [
    "print(\"This is theta: \", myLogisticReg.theta)"
   ]
  },
  {
   "cell_type": "code",
   "execution_count": null,
   "metadata": {},
   "outputs": [],
   "source": []
  },
  {
   "cell_type": "code",
   "execution_count": null,
   "metadata": {},
   "outputs": [],
   "source": []
  }
 ],
 "metadata": {
  "kernelspec": {
   "display_name": "Python 3",
   "language": "python",
   "name": "python3"
  },
  "language_info": {
   "codemirror_mode": {
    "name": "ipython",
    "version": 3
   },
   "file_extension": ".py",
   "mimetype": "text/x-python",
   "name": "python",
   "nbconvert_exporter": "python",
   "pygments_lexer": "ipython3",
   "version": "3.8.5"
  }
 },
 "nbformat": 4,
 "nbformat_minor": 4
}
